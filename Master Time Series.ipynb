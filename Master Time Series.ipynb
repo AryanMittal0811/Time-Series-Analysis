{
 "cells": [
  {
   "cell_type": "code",
   "execution_count": 1,
   "id": "33c38828",
   "metadata": {},
   "outputs": [],
   "source": [
    "import numpy as np\n",
    "import pandas as pd\n",
    "import datetime as dt\n",
    "import matplotlib.pyplot as plt\n",
    "%matplotlib inline\n",
    "import statsmodels.graphics.tsaplots as sgt\n",
    "import statsmodels.tsa.stattools as sts\n",
    "from statsmodels.tsa.stattools import adfuller\n",
    "from statsmodels.tsa.seasonal import seasonal_decompose\n",
    "from statsmodels.tsa.arima.model import ARIMA\n",
    "import yfinance as yf\n",
    "from scipy.stats.distributions import chi2\n",
    "import warnings\n",
    "warnings.filterwarnings('ignore')"
   ]
  },
  {
   "cell_type": "code",
   "execution_count": 2,
   "id": "db1f9d39",
   "metadata": {
    "scrolled": true
   },
   "outputs": [
    {
     "name": "stdout",
     "output_type": "stream",
     "text": [
      "[*********************100%***********************]  2 of 2 completed\n"
     ]
    },
    {
     "data": {
      "text/html": [
       "<div>\n",
       "<style scoped>\n",
       "    .dataframe tbody tr th:only-of-type {\n",
       "        vertical-align: middle;\n",
       "    }\n",
       "\n",
       "    .dataframe tbody tr th {\n",
       "        vertical-align: top;\n",
       "    }\n",
       "\n",
       "    .dataframe thead tr th {\n",
       "        text-align: left;\n",
       "    }\n",
       "\n",
       "    .dataframe thead tr:last-of-type th {\n",
       "        text-align: right;\n",
       "    }\n",
       "</style>\n",
       "<table border=\"1\" class=\"dataframe\">\n",
       "  <thead>\n",
       "    <tr>\n",
       "      <th></th>\n",
       "      <th colspan=\"5\" halign=\"left\">^SPX</th>\n",
       "      <th colspan=\"5\" halign=\"left\">^NSEI</th>\n",
       "    </tr>\n",
       "    <tr>\n",
       "      <th></th>\n",
       "      <th>Open</th>\n",
       "      <th>High</th>\n",
       "      <th>Low</th>\n",
       "      <th>Close</th>\n",
       "      <th>Volume</th>\n",
       "      <th>Open</th>\n",
       "      <th>High</th>\n",
       "      <th>Low</th>\n",
       "      <th>Close</th>\n",
       "      <th>Volume</th>\n",
       "    </tr>\n",
       "    <tr>\n",
       "      <th>Date</th>\n",
       "      <th></th>\n",
       "      <th></th>\n",
       "      <th></th>\n",
       "      <th></th>\n",
       "      <th></th>\n",
       "      <th></th>\n",
       "      <th></th>\n",
       "      <th></th>\n",
       "      <th></th>\n",
       "      <th></th>\n",
       "    </tr>\n",
       "  </thead>\n",
       "  <tbody>\n",
       "    <tr>\n",
       "      <th>2010-01-04</th>\n",
       "      <td>1116.560059</td>\n",
       "      <td>1133.869995</td>\n",
       "      <td>1116.560059</td>\n",
       "      <td>1132.989990</td>\n",
       "      <td>3.991400e+09</td>\n",
       "      <td>5200.899902</td>\n",
       "      <td>5238.450195</td>\n",
       "      <td>5167.100098</td>\n",
       "      <td>5232.200195</td>\n",
       "      <td>0.0</td>\n",
       "    </tr>\n",
       "    <tr>\n",
       "      <th>2010-01-05</th>\n",
       "      <td>1132.660034</td>\n",
       "      <td>1136.630005</td>\n",
       "      <td>1129.660034</td>\n",
       "      <td>1136.520020</td>\n",
       "      <td>2.491020e+09</td>\n",
       "      <td>5277.149902</td>\n",
       "      <td>5288.350098</td>\n",
       "      <td>5242.399902</td>\n",
       "      <td>5277.899902</td>\n",
       "      <td>0.0</td>\n",
       "    </tr>\n",
       "    <tr>\n",
       "      <th>2010-01-06</th>\n",
       "      <td>1135.709961</td>\n",
       "      <td>1139.189941</td>\n",
       "      <td>1133.949951</td>\n",
       "      <td>1137.140015</td>\n",
       "      <td>4.972660e+09</td>\n",
       "      <td>5278.149902</td>\n",
       "      <td>5310.850098</td>\n",
       "      <td>5260.049805</td>\n",
       "      <td>5281.799805</td>\n",
       "      <td>0.0</td>\n",
       "    </tr>\n",
       "    <tr>\n",
       "      <th>2010-01-07</th>\n",
       "      <td>1136.270020</td>\n",
       "      <td>1142.459961</td>\n",
       "      <td>1131.319946</td>\n",
       "      <td>1141.689941</td>\n",
       "      <td>5.270680e+09</td>\n",
       "      <td>5281.799805</td>\n",
       "      <td>5302.549805</td>\n",
       "      <td>5244.750000</td>\n",
       "      <td>5263.100098</td>\n",
       "      <td>0.0</td>\n",
       "    </tr>\n",
       "    <tr>\n",
       "      <th>2010-01-08</th>\n",
       "      <td>1140.520020</td>\n",
       "      <td>1145.390015</td>\n",
       "      <td>1136.219971</td>\n",
       "      <td>1144.979980</td>\n",
       "      <td>4.389590e+09</td>\n",
       "      <td>5264.250000</td>\n",
       "      <td>5276.750000</td>\n",
       "      <td>5234.700195</td>\n",
       "      <td>5244.750000</td>\n",
       "      <td>0.0</td>\n",
       "    </tr>\n",
       "  </tbody>\n",
       "</table>\n",
       "</div>"
      ],
      "text/plain": [
       "                   ^SPX                                                       \\\n",
       "                   Open         High          Low        Close        Volume   \n",
       "Date                                                                           \n",
       "2010-01-04  1116.560059  1133.869995  1116.560059  1132.989990  3.991400e+09   \n",
       "2010-01-05  1132.660034  1136.630005  1129.660034  1136.520020  2.491020e+09   \n",
       "2010-01-06  1135.709961  1139.189941  1133.949951  1137.140015  4.972660e+09   \n",
       "2010-01-07  1136.270020  1142.459961  1131.319946  1141.689941  5.270680e+09   \n",
       "2010-01-08  1140.520020  1145.390015  1136.219971  1144.979980  4.389590e+09   \n",
       "\n",
       "                  ^NSEI                                                \n",
       "                   Open         High          Low        Close Volume  \n",
       "Date                                                                   \n",
       "2010-01-04  5200.899902  5238.450195  5167.100098  5232.200195    0.0  \n",
       "2010-01-05  5277.149902  5288.350098  5242.399902  5277.899902    0.0  \n",
       "2010-01-06  5278.149902  5310.850098  5260.049805  5281.799805    0.0  \n",
       "2010-01-07  5281.799805  5302.549805  5244.750000  5263.100098    0.0  \n",
       "2010-01-08  5264.250000  5276.750000  5234.700195  5244.750000    0.0  "
      ]
     },
     "execution_count": 2,
     "metadata": {},
     "output_type": "execute_result"
    }
   ],
   "source": [
    "raw_data = yf.download(tickers = '^NSEI ^SPX', start = '2010-01-01', end = dt.datetime.now(),interval = '1d', group_by = 'ticker',auto_adjust = True, treads = True)\n",
    "raw_data.head()"
   ]
  },
  {
   "cell_type": "code",
   "execution_count": 3,
   "id": "18b39e3a",
   "metadata": {},
   "outputs": [],
   "source": [
    "df = raw_data.copy()\n",
    "df['nifty'] = raw_data['^NSEI'].Close[:]\n",
    "df['spx'] = raw_data['^SPX'].Close[:]\n",
    "del df['^NSEI']\n",
    "del df['^SPX']\n",
    "df['nifty'].fillna(method = 'ffill',inplace = True)\n",
    "df['spx'].fillna(method = 'ffill',inplace = True)"
   ]
  },
  {
   "cell_type": "code",
   "execution_count": 4,
   "id": "1a02acef",
   "metadata": {},
   "outputs": [
    {
     "data": {
      "text/plain": [
       "<AxesSubplot:xlabel='Date'>"
      ]
     },
     "execution_count": 4,
     "metadata": {},
     "output_type": "execute_result"
    },
    {
     "data": {
      "image/png": "[encoded data removed]",
      "text/plain": [
       "<Figure size 1080x432 with 1 Axes>"
      ]
     },
     "metadata": {
      "needs_background": "light"
     },
     "output_type": "display_data"
    }
   ],
   "source": [
    "df['nifty'].plot(figsize = (15,6))"
   ]
  },
  {
   "cell_type": "code",
   "execution_count": 5,
   "id": "a570ebb7",
   "metadata": {},
   "outputs": [
    {
     "data": {
      "image/png": "[encoded data removed]",
      "text/plain": [
       "<Figure size 432x288 with 4 Axes>"
      ]
     },
     "metadata": {
      "needs_background": "light"
     },
     "output_type": "display_data"
    }
   ],
   "source": [
    "df.nifty.fillna(method = 'ffill',inplace = True)\n",
    "s_dec_add = seasonal_decompose(df.nifty, model = 'additive',period = 7)\n",
    "s_dec_add.plot();"
   ]
  },
  {
   "cell_type": "code",
   "execution_count": 6,
   "id": "66e33670",
   "metadata": {},
   "outputs": [],
   "source": [
    "df['Returns'] = df.nifty.pct_change(1)*100"
   ]
  },
  {
   "cell_type": "code",
   "execution_count": 7,
   "id": "b1d26e8b",
   "metadata": {},
   "outputs": [
    {
     "data": {
      "text/plain": [
       "Text(0.5, 1.0, 'Historical Returns')"
      ]
     },
     "execution_count": 7,
     "metadata": {},
     "output_type": "execute_result"
    },
    {
     "data": {
      "image/png": "[encoded data removed]",
      "text/plain": [
       "<Figure size 1080x432 with 1 Axes>"
      ]
     },
     "metadata": {
      "needs_background": "light"
     },
     "output_type": "display_data"
    }
   ],
   "source": [
    "df['Returns'][1:].plot(figsize = (15,6))\n",
    "plt.ylabel('% Change')\n",
    "plt.title('Historical Returns')"
   ]
  },
  {
   "cell_type": "code",
   "execution_count": 8,
   "id": "0148fcac",
   "metadata": {},
   "outputs": [],
   "source": [
    "def ADF_CHECK(time_series):\n",
    "    result = adfuller(time_series)\n",
    "    print('Augmented Dicky Fuller Test')\n",
    "    labels = [\"ADF Test statistic (T value to be compared with z values)\", \"p-value\", \"# of lags\", \"Num of observations used\"]\n",
    "\n",
    "    for output, label in zip(result, labels):\n",
    "        print(label + ': ' + str(output))\n",
    "        \n",
    "    if result[1] <= 0.05:\n",
    "        print(\"Strong evidence against null hypothesis\")\n",
    "        print(\"Reject null hypothesis\")\n",
    "        print(\"Data does not have a unit root and is stationary\")\n",
    "    else:\n",
    "        print(\"Weak evidence against null hypothesis\")\n",
    "        print(\"Fail to reject null hypothesis\")\n",
    "        print(\"Data has a unit root and is non-stationary\")\n"
   ]
  },
  {
   "cell_type": "code",
   "execution_count": 9,
   "id": "6be07c7e",
   "metadata": {},
   "outputs": [
    {
     "name": "stdout",
     "output_type": "stream",
     "text": [
      "Augmented Dicky Fuller Test\n",
      "ADF Test statistic (T value to be compared with z values): 0.3260176243283672\n",
      "p-value: 0.9785071720032755\n",
      "# of lags: 9\n",
      "Num of observations used: 3469\n",
      "Weak evidence against null hypothesis\n",
      "Fail to reject null hypothesis\n",
      "Data has a unit root and is non-stationary\n"
     ]
    }
   ],
   "source": [
    "ADF_CHECK(df['nifty'])"
   ]
  },
  {
   "cell_type": "code",
   "execution_count": 10,
   "id": "e038fa37",
   "metadata": {},
   "outputs": [
    {
     "name": "stdout",
     "output_type": "stream",
     "text": [
      "Augmented Dicky Fuller Test\n",
      "ADF Test statistic (T value to be compared with z values): -18.909619103290296\n",
      "p-value: 0.0\n",
      "# of lags: 8\n",
      "Num of observations used: 3469\n",
      "Strong evidence against null hypothesis\n",
      "Reject null hypothesis\n",
      "Data does not have a unit root and is stationary\n"
     ]
    }
   ],
   "source": [
    "ADF_CHECK(df['Returns'][1:])"
   ]
  },
  {
   "cell_type": "code",
   "execution_count": 11,
   "id": "8a77b6f5",
   "metadata": {},
   "outputs": [
    {
     "data": {
      "image/png": "[encoded data removed]",
      "text/plain": [
       "<Figure size 432x288 with 1 Axes>"
      ]
     },
     "metadata": {
      "needs_background": "light"
     },
     "output_type": "display_data"
    }
   ],
   "source": [
    "sgt.plot_acf(df[\"Returns\"][1:],lags = 40,zero = False)\n",
    "plt.title(\"ACF\")\n",
    "plt.ylim(-0.1,0.1)\n",
    "plt.show()"
   ]
  },
  {
   "cell_type": "code",
   "execution_count": 12,
   "id": "e7745b55",
   "metadata": {},
   "outputs": [
    {
     "data": {
      "image/png": "[encoded data removed]",
      "text/plain": [
       "<Figure size 432x288 with 1 Axes>"
      ]
     },
     "metadata": {
      "needs_background": "light"
     },
     "output_type": "display_data"
    }
   ],
   "source": [
    "sgt.plot_pacf(df[\"Returns\"][1:],lags = 40,zero = False)\n",
    "plt.title(\"PACF\")\n",
    "plt.ylim(-0.1,0.1)\n",
    "plt.show()"
   ]
  },
  {
   "cell_type": "markdown",
   "id": "fca822e1",
   "metadata": {},
   "source": [
    "# AR MODEL"
   ]
  },
  {
   "cell_type": "code",
   "execution_count": 13,
   "id": "14f1b531",
   "metadata": {},
   "outputs": [],
   "source": [
    "def LLR_TEST(mod_1,mod_2,DF = 1):\n",
    "    L1 = mod_1.llf\n",
    "    L2 = mod_2.llf\n",
    "    LR = 2*(L2-L1)\n",
    "    P = chi2.sf(LR,DF).round(3)\n",
    "    return P"
   ]
  },
  {
   "cell_type": "code",
   "execution_count": 25,
   "id": "e8237720",
   "metadata": {},
   "outputs": [
    {
     "name": "stdout",
     "output_type": "stream",
     "text": [
      "                               SARIMAX Results                                \n",
      "==============================================================================\n",
      "Dep. Variable:                Returns   No. Observations:                 3478\n",
      "Model:                 ARIMA(9, 0, 0)   Log Likelihood               -5091.278\n",
      "Date:                Fri, 23 Jun 2023   AIC                          10204.557\n",
      "Time:                        19:18:01   BIC                          10272.253\n",
      "Sample:                             0   HQIC                         10228.725\n",
      "                               - 3478                                         \n",
      "Covariance Type:                  opg                                         \n",
      "==============================================================================\n",
      "                 coef    std err          z      P>|z|      [0.025      0.975]\n",
      "------------------------------------------------------------------------------\n",
      "const          0.0422      0.021      2.054      0.040       0.002       0.082\n",
      "ar.L1          0.0214      0.012      1.736      0.083      -0.003       0.046\n",
      "ar.L2          0.0024      0.010      0.233      0.816      -0.018       0.022\n",
      "ar.L3         -0.0035      0.010     -0.337      0.736      -0.024       0.017\n",
      "ar.L4         -0.0073      0.012     -0.631      0.528      -0.030       0.015\n",
      "ar.L5          0.0562      0.011      5.247      0.000       0.035       0.077\n",
      "ar.L6         -0.0930      0.012     -7.999      0.000      -0.116      -0.070\n",
      "ar.L7          0.0518      0.010      5.034      0.000       0.032       0.072\n",
      "ar.L8         -0.0167      0.013     -1.267      0.205      -0.043       0.009\n",
      "ar.L9          0.0421      0.010      4.301      0.000       0.023       0.061\n",
      "sigma2         1.0939      0.014     78.867      0.000       1.067       1.121\n",
      "===================================================================================\n",
      "Ljung-Box (L1) (Q):                   0.00   Jarque-Bera (JB):             15525.00\n",
      "Prob(Q):                              0.98   Prob(JB):                         0.00\n",
      "Heteroskedasticity (H):               1.24   Skew:                            -0.63\n",
      "Prob(H) (two-sided):                  0.00   Kurtosis:                        13.27\n",
      "===================================================================================\n",
      "\n",
      "Warnings:\n",
      "[1] Covariance matrix calculated using the outer product of gradients (complex-step).\n",
      "\n",
      "LLR test P-value :0.0\n"
     ]
    }
   ],
   "source": [
    "from statsmodels.tsa.arima.model import ARIMA\n",
    "\n",
    "model_ar5 = ARIMA(df['Returns'][1:], order=(5, 0, 0)).fit()\n",
    "model_ar6 = ARIMA(df['Returns'][1:], order=(6, 0, 0)).fit()\n",
    "model_ar9 = ARIMA(df['Returns'][1:], order=(9, 0, 0)).fit()\n",
    "print(model_ar9.summary())\n",
    "print('\\nLLR test P-value :' + str(LLR_TEST(model_ar6,model_ar9)))"
   ]
  },
  {
   "cell_type": "code",
   "execution_count": 26,
   "id": "1893358a",
   "metadata": {},
   "outputs": [],
   "source": [
    "df['res_ret'] = model_ar9.resid"
   ]
  },
  {
   "cell_type": "code",
   "execution_count": 27,
   "id": "a24b874f",
   "metadata": {},
   "outputs": [
    {
     "name": "stdout",
     "output_type": "stream",
     "text": [
      "Mean of residuals is: -1.687252511543081e-05\n",
      "VOlatility of residuals is: 1.0460761513128807\n",
      "Augmented Dicky Fuller Test\n",
      "ADF Test statistic (T value to be compared with z values): -58.975957209016315\n",
      "p-value: 0.0\n",
      "# of lags: 0\n",
      "Num of observations used: 3477\n",
      "Strong evidence against null hypothesis\n",
      "Reject null hypothesis\n",
      "Data does not have a unit root and is stationary\n",
      "None\n"
     ]
    }
   ],
   "source": [
    "print('Mean of residuals is:',df.res_ret.mean())\n",
    "print('VOlatility of residuals is:',np.sqrt(df.res_ret.var()))\n",
    "print(ADF_CHECK(df['res_ret'][1:]))\n"
   ]
  },
  {
   "cell_type": "code",
   "execution_count": 28,
   "id": "61535cf0",
   "metadata": {},
   "outputs": [
    {
     "data": {
      "image/png": "[encoded data removed]",
      "text/plain": [
       "<Figure size 432x288 with 1 Axes>"
      ]
     },
     "metadata": {
      "needs_background": "light"
     },
     "output_type": "display_data"
    }
   ],
   "source": [
    "sgt.plot_acf(df['res_ret'][1:],lags = 40,zero = False)\n",
    "plt.title(\"ACF of Residuals\")\n",
    "plt.ylim(-0.1,0.1)\n",
    "plt.show()"
   ]
  },
  {
   "cell_type": "code",
   "execution_count": 29,
   "id": "99bd9306",
   "metadata": {},
   "outputs": [
    {
     "data": {
      "image/png": "[encoded data removed]",
      "text/plain": [
       "<Figure size 432x288 with 1 Axes>"
      ]
     },
     "metadata": {
      "needs_background": "light"
     },
     "output_type": "display_data"
    }
   ],
   "source": [
    "sgt.plot_pacf(df['res_ret'][1:],lags = 40,zero = False)\n",
    "plt.title(\"PACF of Residuals\")\n",
    "plt.ylim(-0.1,0.1)\n",
    "plt.show()"
   ]
  },
  {
   "cell_type": "markdown",
   "id": "acfad473",
   "metadata": {},
   "source": [
    "# MA MODEL"
   ]
  },
  {
   "cell_type": "code",
   "execution_count": 31,
   "id": "87c6208b",
   "metadata": {},
   "outputs": [
    {
     "name": "stdout",
     "output_type": "stream",
     "text": [
      "                               SARIMAX Results                                \n",
      "==============================================================================\n",
      "Dep. Variable:                Returns   No. Observations:                 3478\n",
      "Model:                 ARIMA(0, 0, 9)   Log Likelihood               -5092.739\n",
      "Date:                Fri, 23 Jun 2023   AIC                          10207.477\n",
      "Time:                        19:26:57   BIC                          10275.173\n",
      "Sample:                             0   HQIC                         10231.645\n",
      "                               - 3478                                         \n",
      "Covariance Type:                  opg                                         \n",
      "==============================================================================\n",
      "                 coef    std err          z      P>|z|      [0.025      0.975]\n",
      "------------------------------------------------------------------------------\n",
      "const          0.0422      0.020      2.062      0.039       0.002       0.082\n",
      "ma.L1          0.0195      0.012      1.574      0.115      -0.005       0.044\n",
      "ma.L2          0.0063      0.010      0.613      0.540      -0.014       0.026\n",
      "ma.L3         -0.0063      0.010     -0.601      0.548      -0.027       0.014\n",
      "ma.L4         -0.0018      0.012     -0.155      0.877      -0.024       0.021\n",
      "ma.L5          0.0493      0.011      4.626      0.000       0.028       0.070\n",
      "ma.L6         -0.0867      0.012     -7.218      0.000      -0.110      -0.063\n",
      "ma.L7          0.0455      0.010      4.564      0.000       0.026       0.065\n",
      "ma.L8         -0.0167      0.013     -1.243      0.214      -0.043       0.010\n",
      "ma.L9          0.0477      0.009      5.214      0.000       0.030       0.066\n",
      "sigma2         1.0949      0.014     78.696      0.000       1.068       1.122\n",
      "===================================================================================\n",
      "Ljung-Box (L1) (Q):                   0.00   Jarque-Bera (JB):             15922.59\n",
      "Prob(Q):                              0.97   Prob(JB):                         0.00\n",
      "Heteroskedasticity (H):               1.25   Skew:                            -0.62\n",
      "Prob(H) (two-sided):                  0.00   Kurtosis:                        13.41\n",
      "===================================================================================\n",
      "\n",
      "Warnings:\n",
      "[1] Covariance matrix calculated using the outer product of gradients (complex-step).\n",
      "\n",
      "LLR test P-value :0.0\n"
     ]
    }
   ],
   "source": [
    "model_ma5 = ARIMA(df['Returns'][1:], order=(0, 0, 5)).fit()\n",
    "model_ma6 = ARIMA(df['Returns'][1:], order=(0, 0, 6)).fit()\n",
    "model_ma9 = ARIMA(df['Returns'][1:], order=(0, 0, 9)).fit()\n",
    "print(model_ma9.summary())\n",
    "print('\\nLLR test P-value :' + str(LLR_TEST(model_ma6,model_ma9)))"
   ]
  },
  {
   "cell_type": "code",
   "execution_count": 32,
   "id": "14551e31",
   "metadata": {},
   "outputs": [
    {
     "name": "stdout",
     "output_type": "stream",
     "text": [
      "Mean of residuals is: -1.687252511543081e-05\n",
      "VOlatility of residuals is: 1.0460761513128807\n",
      "Augmented Dicky Fuller Test\n",
      "ADF Test statistic (T value to be compared with z values): -58.975957209016315\n",
      "p-value: 0.0\n",
      "# of lags: 0\n",
      "Num of observations used: 3477\n",
      "Strong evidence against null hypothesis\n",
      "Reject null hypothesis\n",
      "Data does not have a unit root and is stationary\n",
      "None\n"
     ]
    }
   ],
   "source": [
    "df['res_ret_ma'] = model_ma9.resid\n",
    "print('Mean of residuals is:',df.res_ret.mean())\n",
    "print('VOlatility of residuals is:',np.sqrt(df.res_ret.var()))\n",
    "print(ADF_CHECK(df['res_ret'][1:]))"
   ]
  },
  {
   "cell_type": "code",
   "execution_count": 33,
   "id": "700b2040",
   "metadata": {},
   "outputs": [
    {
     "data": {
      "image/png": "[encoded data removed]",
      "text/plain": [
       "<Figure size 432x288 with 1 Axes>"
      ]
     },
     "metadata": {
      "needs_background": "light"
     },
     "output_type": "display_data"
    }
   ],
   "source": [
    "sgt.plot_acf(df['res_ret_ma'][1:],lags = 40,zero = False)\n",
    "plt.title(\"ACF of Residuals\")\n",
    "plt.ylim(-0.1,0.1)\n",
    "plt.show()"
   ]
  },
  {
   "cell_type": "markdown",
   "id": "1df41b1f",
   "metadata": {},
   "source": [
    "# ARMA"
   ]
  },
  {
   "cell_type": "code",
   "execution_count": 43,
   "id": "8c49282d",
   "metadata": {},
   "outputs": [
    {
     "name": "stdout",
     "output_type": "stream",
     "text": [
      "                               SARIMAX Results                                \n",
      "==============================================================================\n",
      "Dep. Variable:                Returns   No. Observations:                 3478\n",
      "Model:                 ARIMA(5, 0, 6)   Log Likelihood               -5088.247\n",
      "Date:                Fri, 23 Jun 2023   AIC                          10202.493\n",
      "Time:                        19:39:07   BIC                          10282.498\n",
      "Sample:                             0   HQIC                         10231.055\n",
      "                               - 3478                                         \n",
      "Covariance Type:                  opg                                         \n",
      "==============================================================================\n",
      "                 coef    std err          z      P>|z|      [0.025      0.975]\n",
      "------------------------------------------------------------------------------\n",
      "const          0.0422      0.019      2.185      0.029       0.004       0.080\n",
      "ar.L1         -0.8213      0.212     -3.874      0.000      -1.237      -0.406\n",
      "ar.L2         -0.5873      0.171     -3.436      0.001      -0.922      -0.252\n",
      "ar.L3         -0.8884      0.099     -8.944      0.000      -1.083      -0.694\n",
      "ar.L4         -0.8527      0.187     -4.566      0.000      -1.219      -0.487\n",
      "ar.L5         -0.1602      0.169     -0.951      0.342      -0.490       0.170\n",
      "ma.L1          0.8419      0.214      3.942      0.000       0.423       1.261\n",
      "ma.L2          0.6082      0.177      3.433      0.001       0.261       0.955\n",
      "ma.L3          0.8984      0.111      8.099      0.000       0.681       1.116\n",
      "ma.L4          0.8601      0.197      4.361      0.000       0.474       1.247\n",
      "ma.L5          0.2203      0.176      1.251      0.211      -0.125       0.565\n",
      "ma.L6         -0.0471      0.025     -1.879      0.060      -0.096       0.002\n",
      "sigma2         1.0923      0.014     79.236      0.000       1.065       1.119\n",
      "===================================================================================\n",
      "Ljung-Box (L1) (Q):                   0.00   Jarque-Bera (JB):             15704.67\n",
      "Prob(Q):                              0.97   Prob(JB):                         0.00\n",
      "Heteroskedasticity (H):               1.25   Skew:                            -0.65\n",
      "Prob(H) (two-sided):                  0.00   Kurtosis:                        13.33\n",
      "===================================================================================\n",
      "\n",
      "Warnings:\n",
      "[1] Covariance matrix calculated using the outer product of gradients (complex-step).\n",
      "\n",
      "LLR test P-value :0.003\n"
     ]
    }
   ],
   "source": [
    "model_ar1_ma1 = ARIMA(df['Returns'][1:], order=(1, 0, 1)).fit()\n",
    "model_ar6_ma5 = ARIMA(df['Returns'][1:], order=(6,0, 5)).fit()\n",
    "model_ar5_ma4 = ARIMA(df['Returns'][1:], order=(5,0, 4)).fit()\n",
    "model_ar4_ma5 = ARIMA(df['Returns'][1:], order=(4,0, 5)).fit()\n",
    "model_ar5_ma6 = ARIMA(df['Returns'][1:], order=(5,0, 6)).fit()\n",
    "print(model_ar5_ma6.summary())\n",
    "print('\\nLLR test P-value :' + str(LLR_TEST(model_ar5_ma4,model_ar5_ma6)))"
   ]
  },
  {
   "cell_type": "code",
   "execution_count": 44,
   "id": "3d5921df",
   "metadata": {},
   "outputs": [
    {
     "name": "stdout",
     "output_type": "stream",
     "text": [
      "LLR test P-value :0.004\n",
      "\n",
      "Log likelihood of ARMA(5,0,6) is:-5088.246615169749\n",
      "\n",
      "Log likelihood of ARMA(6,0,5) is:-5087.89324640091\n"
     ]
    }
   ],
   "source": [
    "print('LLR test P-value :' + str(LLR_TEST(model_ar4_ma5,model_ar5_ma6)))\n",
    "print('\\nLog likelihood of ARMA(5,0,6) is:' + str(model_ar5_ma6.llf))\n",
    "print('\\nLog likelihood of ARMA(6,0,5) is:' + str(model_ar6_ma5.llf))"
   ]
  },
  {
   "cell_type": "code",
   "execution_count": 45,
   "id": "73781081",
   "metadata": {},
   "outputs": [
    {
     "name": "stdout",
     "output_type": "stream",
     "text": [
      "Mean of residuals is: -3.725853452418842e-05\n",
      "VOlatility of residuals is: 1.0450593462269482\n",
      "Augmented Dicky Fuller Test\n",
      "ADF Test statistic (T value to be compared with z values): -59.25744365902688\n",
      "p-value: 0.0\n",
      "# of lags: 0\n",
      "Num of observations used: 3477\n",
      "Strong evidence against null hypothesis\n",
      "Reject null hypothesis\n",
      "Data does not have a unit root and is stationary\n",
      "None\n"
     ]
    }
   ],
   "source": [
    "df['res_ret_ar_ma'] = model_ar6_ma5.resid\n",
    "print('Mean of residuals is:',df.res_ret_ar_ma.mean())\n",
    "print('VOlatility of residuals is:',np.sqrt(df.res_ret_ar_ma.var()))\n",
    "print(ADF_CHECK(df['res_ret_ar_ma'][1:]))"
   ]
  },
  {
   "cell_type": "code",
   "execution_count": 46,
   "id": "3e963d72",
   "metadata": {},
   "outputs": [
    {
     "data": {
      "image/png": "[encoded data removed]",
      "text/plain": [
       "<Figure size 432x288 with 1 Axes>"
      ]
     },
     "metadata": {
      "needs_background": "light"
     },
     "output_type": "display_data"
    }
   ],
   "source": [
    "sgt.plot_acf(df['res_ret_ar_ma'][1:],lags = 40,zero = False)\n",
    "plt.title(\"ACF of Residuals\")\n",
    "plt.ylim(-0.1,0.1)\n",
    "plt.show()"
   ]
  },
  {
   "cell_type": "code",
   "execution_count": 47,
   "id": "e870f61c",
   "metadata": {},
   "outputs": [
    {
     "data": {
      "image/png": "[encoded data removed]",
      "text/plain": [
       "<Figure size 432x288 with 1 Axes>"
      ]
     },
     "metadata": {
      "needs_background": "light"
     },
     "output_type": "display_data"
    }
   ],
   "source": [
    "sgt.plot_pacf(df['res_ret_ar_ma'][1:],lags = 40,zero = False)\n",
    "plt.title(\"PACF of Residuals\")\n",
    "plt.ylim(-0.1,0.1)\n",
    "plt.show()"
   ]
  },
  {
   "cell_type": "markdown",
   "id": "d3485223",
   "metadata": {},
   "source": [
    "# ARIMA MODEL "
   ]
  },
  {
   "cell_type": "code",
   "execution_count": 49,
   "id": "3917526b",
   "metadata": {},
   "outputs": [
    {
     "data": {
      "text/html": [
       "<div>\n",
       "<style scoped>\n",
       "    .dataframe tbody tr th:only-of-type {\n",
       "        vertical-align: middle;\n",
       "    }\n",
       "\n",
       "    .dataframe tbody tr th {\n",
       "        vertical-align: top;\n",
       "    }\n",
       "\n",
       "    .dataframe thead tr th {\n",
       "        text-align: left;\n",
       "    }\n",
       "\n",
       "    .dataframe thead tr:last-of-type th {\n",
       "        text-align: right;\n",
       "    }\n",
       "</style>\n",
       "<table border=\"1\" class=\"dataframe\">\n",
       "  <thead>\n",
       "    <tr>\n",
       "      <th></th>\n",
       "      <th>nifty</th>\n",
       "      <th>spx</th>\n",
       "      <th>Returns</th>\n",
       "      <th>res_ret</th>\n",
       "      <th>res_ret_ma</th>\n",
       "      <th>res_ret_ar_ma</th>\n",
       "      <th>First Difference</th>\n",
       "    </tr>\n",
       "    <tr>\n",
       "      <th></th>\n",
       "      <th></th>\n",
       "      <th></th>\n",
       "      <th></th>\n",
       "      <th></th>\n",
       "      <th></th>\n",
       "      <th></th>\n",
       "      <th></th>\n",
       "    </tr>\n",
       "    <tr>\n",
       "      <th>Date</th>\n",
       "      <th></th>\n",
       "      <th></th>\n",
       "      <th></th>\n",
       "      <th></th>\n",
       "      <th></th>\n",
       "      <th></th>\n",
       "      <th></th>\n",
       "    </tr>\n",
       "  </thead>\n",
       "  <tbody>\n",
       "    <tr>\n",
       "      <th>2010-01-04</th>\n",
       "      <td>5232.200195</td>\n",
       "      <td>1132.989990</td>\n",
       "      <td>NaN</td>\n",
       "      <td>NaN</td>\n",
       "      <td>NaN</td>\n",
       "      <td>NaN</td>\n",
       "      <td>0.000000</td>\n",
       "    </tr>\n",
       "    <tr>\n",
       "      <th>2010-01-05</th>\n",
       "      <td>5277.899902</td>\n",
       "      <td>1136.520020</td>\n",
       "      <td>0.873432</td>\n",
       "      <td>0.831268</td>\n",
       "      <td>0.831269</td>\n",
       "      <td>0.831239</td>\n",
       "      <td>45.699707</td>\n",
       "    </tr>\n",
       "    <tr>\n",
       "      <th>2010-01-06</th>\n",
       "      <td>5281.799805</td>\n",
       "      <td>1137.140015</td>\n",
       "      <td>0.073891</td>\n",
       "      <td>0.023630</td>\n",
       "      <td>0.023788</td>\n",
       "      <td>0.019158</td>\n",
       "      <td>3.899902</td>\n",
       "    </tr>\n",
       "    <tr>\n",
       "      <th>2010-01-07</th>\n",
       "      <td>5263.100098</td>\n",
       "      <td>1141.689941</td>\n",
       "      <td>-0.354040</td>\n",
       "      <td>-0.403991</td>\n",
       "      <td>-0.406159</td>\n",
       "      <td>-0.403653</td>\n",
       "      <td>-18.699707</td>\n",
       "    </tr>\n",
       "    <tr>\n",
       "      <th>2010-01-08</th>\n",
       "      <td>5244.750000</td>\n",
       "      <td>1144.979980</td>\n",
       "      <td>-0.348656</td>\n",
       "      <td>-0.381109</td>\n",
       "      <td>-0.378600</td>\n",
       "      <td>-0.380156</td>\n",
       "      <td>-18.350098</td>\n",
       "    </tr>\n",
       "  </tbody>\n",
       "</table>\n",
       "</div>"
      ],
      "text/plain": [
       "                  nifty          spx   Returns   res_ret res_ret_ma  \\\n",
       "                                                                      \n",
       "Date                                                                  \n",
       "2010-01-04  5232.200195  1132.989990       NaN       NaN        NaN   \n",
       "2010-01-05  5277.899902  1136.520020  0.873432  0.831268   0.831269   \n",
       "2010-01-06  5281.799805  1137.140015  0.073891  0.023630   0.023788   \n",
       "2010-01-07  5263.100098  1141.689941 -0.354040 -0.403991  -0.406159   \n",
       "2010-01-08  5244.750000  1144.979980 -0.348656 -0.381109  -0.378600   \n",
       "\n",
       "           res_ret_ar_ma First Difference  \n",
       "                                           \n",
       "Date                                       \n",
       "2010-01-04           NaN         0.000000  \n",
       "2010-01-05      0.831239        45.699707  \n",
       "2010-01-06      0.019158         3.899902  \n",
       "2010-01-07     -0.403653       -18.699707  \n",
       "2010-01-08     -0.380156       -18.350098  "
      ]
     },
     "execution_count": 49,
     "metadata": {},
     "output_type": "execute_result"
    }
   ],
   "source": [
    "df['First Difference'] = df['nifty']-df['nifty'].shift(1)\n",
    "df['First Difference'].fillna(0,inplace = True)\n",
    "df.head()"
   ]
  },
  {
   "cell_type": "code",
   "execution_count": 50,
   "id": "02fbdb5f",
   "metadata": {},
   "outputs": [
    {
     "name": "stdout",
     "output_type": "stream",
     "text": [
      "Augmented Dicky Fuller Test\n",
      "ADF Test statistic (T value to be compared with z values): -18.76985057848083\n",
      "p-value: 2.0253282162003623e-30\n",
      "# of lags: 8\n",
      "Num of observations used: 3470\n",
      "Strong evidence against null hypothesis\n",
      "Reject null hypothesis\n",
      "Data does not have a unit root and is stationary\n"
     ]
    }
   ],
   "source": [
    "ADF_CHECK(df['First Difference'])"
   ]
  },
  {
   "cell_type": "code",
   "execution_count": 58,
   "id": "1eaaf80c",
   "metadata": {},
   "outputs": [
    {
     "data": {
      "text/html": [
       "<table class=\"simpletable\">\n",
       "<caption>SARIMAX Results</caption>\n",
       "<tr>\n",
       "  <th>Dep. Variable:</th>         <td>nifty</td>      <th>  No. Observations:  </th>    <td>3479</td>   \n",
       "</tr>\n",
       "<tr>\n",
       "  <th>Model:</th>            <td>ARIMA(3, 1, 4)</td>  <th>  Log Likelihood     </th> <td>-21068.697</td>\n",
       "</tr>\n",
       "<tr>\n",
       "  <th>Date:</th>            <td>Fri, 23 Jun 2023</td> <th>  AIC                </th>  <td>42153.394</td>\n",
       "</tr>\n",
       "<tr>\n",
       "  <th>Time:</th>                <td>19:43:32</td>     <th>  BIC                </th>  <td>42202.627</td>\n",
       "</tr>\n",
       "<tr>\n",
       "  <th>Sample:</th>                  <td>0</td>        <th>  HQIC               </th>  <td>42170.970</td>\n",
       "</tr>\n",
       "<tr>\n",
       "  <th></th>                      <td> - 3479</td>     <th>                     </th>      <td> </td>    \n",
       "</tr>\n",
       "<tr>\n",
       "  <th>Covariance Type:</th>        <td>opg</td>       <th>                     </th>      <td> </td>    \n",
       "</tr>\n",
       "</table>\n",
       "<table class=\"simpletable\">\n",
       "<tr>\n",
       "     <td></td>       <th>coef</th>     <th>std err</th>      <th>z</th>      <th>P>|z|</th>  <th>[0.025</th>    <th>0.975]</th>  \n",
       "</tr>\n",
       "<tr>\n",
       "  <th>ar.L1</th>  <td>   -1.2370</td> <td>    0.045</td> <td>  -27.269</td> <td> 0.000</td> <td>   -1.326</td> <td>   -1.148</td>\n",
       "</tr>\n",
       "<tr>\n",
       "  <th>ar.L2</th>  <td>   -1.1621</td> <td>    0.055</td> <td>  -21.070</td> <td> 0.000</td> <td>   -1.270</td> <td>   -1.054</td>\n",
       "</tr>\n",
       "<tr>\n",
       "  <th>ar.L3</th>  <td>   -0.7791</td> <td>    0.049</td> <td>  -15.811</td> <td> 0.000</td> <td>   -0.876</td> <td>   -0.683</td>\n",
       "</tr>\n",
       "<tr>\n",
       "  <th>ma.L1</th>  <td>    1.2614</td> <td>    0.047</td> <td>   26.968</td> <td> 0.000</td> <td>    1.170</td> <td>    1.353</td>\n",
       "</tr>\n",
       "<tr>\n",
       "  <th>ma.L2</th>  <td>    1.1741</td> <td>    0.060</td> <td>   19.468</td> <td> 0.000</td> <td>    1.056</td> <td>    1.292</td>\n",
       "</tr>\n",
       "<tr>\n",
       "  <th>ma.L3</th>  <td>    0.7621</td> <td>    0.055</td> <td>   13.948</td> <td> 0.000</td> <td>    0.655</td> <td>    0.869</td>\n",
       "</tr>\n",
       "<tr>\n",
       "  <th>ma.L4</th>  <td>   -0.0399</td> <td>    0.011</td> <td>   -3.538</td> <td> 0.000</td> <td>   -0.062</td> <td>   -0.018</td>\n",
       "</tr>\n",
       "<tr>\n",
       "  <th>sigma2</th> <td> 1.074e+04</td> <td>  109.510</td> <td>   98.037</td> <td> 0.000</td> <td> 1.05e+04</td> <td>  1.1e+04</td>\n",
       "</tr>\n",
       "</table>\n",
       "<table class=\"simpletable\">\n",
       "<tr>\n",
       "  <th>Ljung-Box (L1) (Q):</th>     <td>0.02</td> <th>  Jarque-Bera (JB):  </th> <td>19411.87</td>\n",
       "</tr>\n",
       "<tr>\n",
       "  <th>Prob(Q):</th>                <td>0.88</td> <th>  Prob(JB):          </th>   <td>0.00</td>  \n",
       "</tr>\n",
       "<tr>\n",
       "  <th>Heteroskedasticity (H):</th> <td>6.55</td> <th>  Skew:              </th>   <td>-0.91</td> \n",
       "</tr>\n",
       "<tr>\n",
       "  <th>Prob(H) (two-sided):</th>    <td>0.00</td> <th>  Kurtosis:          </th>   <td>14.43</td> \n",
       "</tr>\n",
       "</table><br/><br/>Warnings:<br/>[1] Covariance matrix calculated using the outer product of gradients (complex-step)."
      ],
      "text/plain": [
       "<class 'statsmodels.iolib.summary.Summary'>\n",
       "\"\"\"\n",
       "                               SARIMAX Results                                \n",
       "==============================================================================\n",
       "Dep. Variable:                  nifty   No. Observations:                 3479\n",
       "Model:                 ARIMA(3, 1, 4)   Log Likelihood              -21068.697\n",
       "Date:                Fri, 23 Jun 2023   AIC                          42153.394\n",
       "Time:                        19:43:32   BIC                          42202.627\n",
       "Sample:                             0   HQIC                         42170.970\n",
       "                               - 3479                                         \n",
       "Covariance Type:                  opg                                         \n",
       "==============================================================================\n",
       "                 coef    std err          z      P>|z|      [0.025      0.975]\n",
       "------------------------------------------------------------------------------\n",
       "ar.L1         -1.2370      0.045    -27.269      0.000      -1.326      -1.148\n",
       "ar.L2         -1.1621      0.055    -21.070      0.000      -1.270      -1.054\n",
       "ar.L3         -0.7791      0.049    -15.811      0.000      -0.876      -0.683\n",
       "ma.L1          1.2614      0.047     26.968      0.000       1.170       1.353\n",
       "ma.L2          1.1741      0.060     19.468      0.000       1.056       1.292\n",
       "ma.L3          0.7621      0.055     13.948      0.000       0.655       0.869\n",
       "ma.L4         -0.0399      0.011     -3.538      0.000      -0.062      -0.018\n",
       "sigma2      1.074e+04    109.510     98.037      0.000    1.05e+04     1.1e+04\n",
       "===================================================================================\n",
       "Ljung-Box (L1) (Q):                   0.02   Jarque-Bera (JB):             19411.87\n",
       "Prob(Q):                              0.88   Prob(JB):                         0.00\n",
       "Heteroskedasticity (H):               6.55   Skew:                            -0.91\n",
       "Prob(H) (two-sided):                  0.00   Kurtosis:                        14.43\n",
       "===================================================================================\n",
       "\n",
       "Warnings:\n",
       "[1] Covariance matrix calculated using the outer product of gradients (complex-step).\n",
       "\"\"\""
      ]
     },
     "execution_count": 58,
     "metadata": {},
     "output_type": "execute_result"
    }
   ],
   "source": [
    "model_ar2_i1_ma3 = ARIMA(df['nifty'],order = (2,1,3)).fit()\n",
    "model_ar4_i1_ma3 = ARIMA(df['nifty'],order = (4,1,3)).fit()\n",
    "model_ar3_i1_ma3 = ARIMA(df['nifty'],order = (3,1,3)).fit()\n",
    "model_ar3_i1_ma4 = ARIMA(df['nifty'],order = (3,1,4)).fit()\n",
    "\n",
    "model_ar3_i1_ma4.summary()"
   ]
  },
  {
   "cell_type": "code",
   "execution_count": 59,
   "id": "0368e9df",
   "metadata": {},
   "outputs": [
    {
     "name": "stdout",
     "output_type": "stream",
     "text": [
      "0.017\n",
      "0.035\n",
      "ARIMA(2,1,3):\t Log likelihood is: -21073.78464379388\t AIC is: 42159.56928758776\n",
      "ARIMA(3,1,3):\t Log likelihood is: -21070.916523171407\t AIC is: 42155.833046342814\n",
      "ARIMA(3,1,4):\t Log likelihood is: -21068.69688220226\t AIC is: 42153.39376440452\n",
      "ARIMA(4,1,3):\t Log likelihood is: -21068.870602648138\t AIC is: 42153.741205296275\n"
     ]
    }
   ],
   "source": [
    "print(LLR_TEST(model_ar2_i1_ma3,model_ar3_i1_ma3))\n",
    "print(LLR_TEST(model_ar3_i1_ma3,model_ar3_i1_ma4))\n",
    "print('ARIMA(2,1,3):'+ '\\t Log likelihood is: ' + str(model_ar2_i1_ma3.llf) + '\\t AIC is: ' + str(model_ar2_i1_ma3.aic))\n",
    "print('ARIMA(3,1,3):'+ '\\t Log likelihood is: ' + str(model_ar3_i1_ma3.llf) + '\\t AIC is: ' + str(model_ar3_i1_ma3.aic))\n",
    "print('ARIMA(3,1,4):'+ '\\t Log likelihood is: ' + str(model_ar3_i1_ma4.llf) + '\\t AIC is: ' + str(model_ar3_i1_ma4.aic))\n",
    "print('ARIMA(4,1,3):'+ '\\t Log likelihood is: ' + str(model_ar4_i1_ma3.llf) + '\\t AIC is: ' + str(model_ar4_i1_ma3.aic))\n"
   ]
  },
  {
   "cell_type": "code",
   "execution_count": 60,
   "id": "60532ed6",
   "metadata": {},
   "outputs": [
    {
     "name": "stdout",
     "output_type": "stream",
     "text": [
      "Mean of residuals is: 5.3825390743405\n",
      "Volatility of residuals is: 136.15016978746624\n",
      "Augmented Dicky Fuller Test\n",
      "ADF Test statistic (T value to be compared with z values): -17.463154187276036\n",
      "p-value: 4.585475764283136e-30\n",
      "# of lags: 10\n",
      "Num of observations used: 3468\n",
      "Strong evidence against null hypothesis\n",
      "Reject null hypothesis\n",
      "Data does not have a unit root and is stationary\n",
      "None\n"
     ]
    }
   ],
   "source": [
    "df['res_ret_ar_i_ma'] = model_ar3_i1_ma4.resid\n",
    "print('Mean of residuals is:',df.res_ret_ar_i_ma.mean())\n",
    "print('Volatility of residuals is:',np.sqrt(df.res_ret_ar_i_ma.var()))\n",
    "print(ADF_CHECK(df['res_ret_ar_i_ma']))"
   ]
  },
  {
   "cell_type": "code",
   "execution_count": 61,
   "id": "4e834668",
   "metadata": {},
   "outputs": [
    {
     "data": {
      "image/png": "[encoded data removed]",
      "text/plain": [
       "<Figure size 432x288 with 1 Axes>"
      ]
     },
     "metadata": {
      "needs_background": "light"
     },
     "output_type": "display_data"
    }
   ],
   "source": [
    "sgt.plot_acf(df['res_ret_ar_i_ma'],lags = 40,zero = False)\n",
    "plt.title(\"ACF of Residuals\")\n",
    "plt.ylim(-0.1,0.1)\n",
    "plt.show()"
   ]
  },
  {
   "cell_type": "code",
   "execution_count": 62,
   "id": "289d6eaa",
   "metadata": {},
   "outputs": [
    {
     "data": {
      "image/png": "[encoded data removed]",
      "text/plain": [
       "<Figure size 432x288 with 1 Axes>"
      ]
     },
     "metadata": {
      "needs_background": "light"
     },
     "output_type": "display_data"
    }
   ],
   "source": [
    "sgt.plot_pacf(df['res_ret_ar_i_ma'],lags = 40,zero = False)\n",
    "plt.title(\"PACF of Residuals\")\n",
    "plt.ylim(-0.1,0.1)\n",
    "plt.show()"
   ]
  },
  {
   "cell_type": "markdown",
   "id": "ef742e25",
   "metadata": {},
   "source": [
    "# ARIMAX"
   ]
  },
  {
   "cell_type": "code",
   "execution_count": 63,
   "id": "536132b6",
   "metadata": {},
   "outputs": [
    {
     "data": {
      "text/html": [
       "<table class=\"simpletable\">\n",
       "<caption>SARIMAX Results</caption>\n",
       "<tr>\n",
       "  <th>Dep. Variable:</th>         <td>nifty</td>      <th>  No. Observations:  </th>    <td>3479</td>   \n",
       "</tr>\n",
       "<tr>\n",
       "  <th>Model:</th>            <td>ARIMA(1, 1, 1)</td>  <th>  Log Likelihood     </th> <td>-20949.616</td>\n",
       "</tr>\n",
       "<tr>\n",
       "  <th>Date:</th>            <td>Fri, 23 Jun 2023</td> <th>  AIC                </th>  <td>41907.231</td>\n",
       "</tr>\n",
       "<tr>\n",
       "  <th>Time:</th>                <td>19:44:44</td>     <th>  BIC                </th>  <td>41931.848</td>\n",
       "</tr>\n",
       "<tr>\n",
       "  <th>Sample:</th>                  <td>0</td>        <th>  HQIC               </th>  <td>41916.020</td>\n",
       "</tr>\n",
       "<tr>\n",
       "  <th></th>                      <td> - 3479</td>     <th>                     </th>      <td> </td>    \n",
       "</tr>\n",
       "<tr>\n",
       "  <th>Covariance Type:</th>        <td>opg</td>       <th>                     </th>      <td> </td>    \n",
       "</tr>\n",
       "</table>\n",
       "<table class=\"simpletable\">\n",
       "<tr>\n",
       "     <td></td>       <th>coef</th>     <th>std err</th>      <th>z</th>      <th>P>|z|</th>  <th>[0.025</th>    <th>0.975]</th>  \n",
       "</tr>\n",
       "<tr>\n",
       "  <th>spx</th>    <td>    0.9918</td> <td>    0.028</td> <td>   34.945</td> <td> 0.000</td> <td>    0.936</td> <td>    1.047</td>\n",
       "</tr>\n",
       "<tr>\n",
       "  <th>ar.L1</th>  <td>    0.3476</td> <td>    0.120</td> <td>    2.903</td> <td> 0.004</td> <td>    0.113</td> <td>    0.582</td>\n",
       "</tr>\n",
       "<tr>\n",
       "  <th>ma.L1</th>  <td>   -0.4043</td> <td>    0.117</td> <td>   -3.445</td> <td> 0.001</td> <td>   -0.634</td> <td>   -0.174</td>\n",
       "</tr>\n",
       "<tr>\n",
       "  <th>sigma2</th> <td> 9996.3566</td> <td>  108.389</td> <td>   92.227</td> <td> 0.000</td> <td> 9783.918</td> <td> 1.02e+04</td>\n",
       "</tr>\n",
       "</table>\n",
       "<table class=\"simpletable\">\n",
       "<tr>\n",
       "  <th>Ljung-Box (L1) (Q):</th>     <td>0.00</td> <th>  Jarque-Bera (JB):  </th> <td>14656.04</td>\n",
       "</tr>\n",
       "<tr>\n",
       "  <th>Prob(Q):</th>                <td>1.00</td> <th>  Prob(JB):          </th>   <td>0.00</td>  \n",
       "</tr>\n",
       "<tr>\n",
       "  <th>Heteroskedasticity (H):</th> <td>6.49</td> <th>  Skew:              </th>   <td>-0.69</td> \n",
       "</tr>\n",
       "<tr>\n",
       "  <th>Prob(H) (two-sided):</th>    <td>0.00</td> <th>  Kurtosis:          </th>   <td>12.96</td> \n",
       "</tr>\n",
       "</table><br/><br/>Warnings:<br/>[1] Covariance matrix calculated using the outer product of gradients (complex-step)."
      ],
      "text/plain": [
       "<class 'statsmodels.iolib.summary.Summary'>\n",
       "\"\"\"\n",
       "                               SARIMAX Results                                \n",
       "==============================================================================\n",
       "Dep. Variable:                  nifty   No. Observations:                 3479\n",
       "Model:                 ARIMA(1, 1, 1)   Log Likelihood              -20949.616\n",
       "Date:                Fri, 23 Jun 2023   AIC                          41907.231\n",
       "Time:                        19:44:44   BIC                          41931.848\n",
       "Sample:                             0   HQIC                         41916.020\n",
       "                               - 3479                                         \n",
       "Covariance Type:                  opg                                         \n",
       "==============================================================================\n",
       "                 coef    std err          z      P>|z|      [0.025      0.975]\n",
       "------------------------------------------------------------------------------\n",
       "spx            0.9918      0.028     34.945      0.000       0.936       1.047\n",
       "ar.L1          0.3476      0.120      2.903      0.004       0.113       0.582\n",
       "ma.L1         -0.4043      0.117     -3.445      0.001      -0.634      -0.174\n",
       "sigma2      9996.3566    108.389     92.227      0.000    9783.918    1.02e+04\n",
       "===================================================================================\n",
       "Ljung-Box (L1) (Q):                   0.00   Jarque-Bera (JB):             14656.04\n",
       "Prob(Q):                              1.00   Prob(JB):                         0.00\n",
       "Heteroskedasticity (H):               6.49   Skew:                            -0.69\n",
       "Prob(H) (two-sided):                  0.00   Kurtosis:                        12.96\n",
       "===================================================================================\n",
       "\n",
       "Warnings:\n",
       "[1] Covariance matrix calculated using the outer product of gradients (complex-step).\n",
       "\"\"\""
      ]
     },
     "execution_count": 63,
     "metadata": {},
     "output_type": "execute_result"
    }
   ],
   "source": [
    "model_arimax111 = ARIMA(df['nifty'],order = (1,1,1),exog = df['spx']).fit()\n",
    "\n",
    "model_arimax111.summary()"
   ]
  },
  {
   "cell_type": "markdown",
   "id": "0737f1c8",
   "metadata": {},
   "source": [
    "# SARIMAX"
   ]
  },
  {
   "cell_type": "code",
   "execution_count": 64,
   "id": "f7b6d11c",
   "metadata": {},
   "outputs": [],
   "source": [
    "from statsmodels.tsa.statespace.sarimax import SARIMAX"
   ]
  },
  {
   "cell_type": "code",
   "execution_count": 65,
   "id": "a87dd057",
   "metadata": {},
   "outputs": [],
   "source": [
    "model_sarimax = SARIMAX(df['nifty'][2500:],order = (1,1,1),exog = df['spx'][2500:],seasonal_order = (2,1,1,5)).fit()"
   ]
  },
  {
   "cell_type": "code",
   "execution_count": 66,
   "id": "e590cc82",
   "metadata": {},
   "outputs": [
    {
     "data": {
      "text/html": [
       "<table class=\"simpletable\">\n",
       "<caption>SARIMAX Results</caption>\n",
       "<tr>\n",
       "  <th>Dep. Variable:</th>               <td>nifty</td>             <th>  No. Observations:  </th>    <td>979</td>   \n",
       "</tr>\n",
       "<tr>\n",
       "  <th>Model:</th>           <td>SARIMAX(1, 1, 1)x(2, 1, 1, 5)</td> <th>  Log Likelihood     </th> <td>-6303.442</td>\n",
       "</tr>\n",
       "<tr>\n",
       "  <th>Date:</th>                  <td>Fri, 23 Jun 2023</td>        <th>  AIC                </th> <td>12620.885</td>\n",
       "</tr>\n",
       "<tr>\n",
       "  <th>Time:</th>                      <td>19:45:04</td>            <th>  BIC                </th> <td>12655.047</td>\n",
       "</tr>\n",
       "<tr>\n",
       "  <th>Sample:</th>                        <td>0</td>               <th>  HQIC               </th> <td>12633.886</td>\n",
       "</tr>\n",
       "<tr>\n",
       "  <th></th>                            <td> - 979</td>             <th>                     </th>     <td> </td>    \n",
       "</tr>\n",
       "<tr>\n",
       "  <th>Covariance Type:</th>              <td>opg</td>              <th>                     </th>     <td> </td>    \n",
       "</tr>\n",
       "</table>\n",
       "<table class=\"simpletable\">\n",
       "<tr>\n",
       "      <td></td>        <th>coef</th>     <th>std err</th>      <th>z</th>      <th>P>|z|</th>  <th>[0.025</th>    <th>0.975]</th>  \n",
       "</tr>\n",
       "<tr>\n",
       "  <th>spx</th>      <td>    0.9211</td> <td>    0.072</td> <td>   12.858</td> <td> 0.000</td> <td>    0.781</td> <td>    1.061</td>\n",
       "</tr>\n",
       "<tr>\n",
       "  <th>ar.L1</th>    <td>   -0.9618</td> <td>    0.048</td> <td>  -19.961</td> <td> 0.000</td> <td>   -1.056</td> <td>   -0.867</td>\n",
       "</tr>\n",
       "<tr>\n",
       "  <th>ma.L1</th>    <td>    0.9731</td> <td>    0.040</td> <td>   24.111</td> <td> 0.000</td> <td>    0.894</td> <td>    1.052</td>\n",
       "</tr>\n",
       "<tr>\n",
       "  <th>ar.S.L5</th>  <td>    0.0921</td> <td>    0.030</td> <td>    3.052</td> <td> 0.002</td> <td>    0.033</td> <td>    0.151</td>\n",
       "</tr>\n",
       "<tr>\n",
       "  <th>ar.S.L10</th> <td>   -0.0328</td> <td>    0.029</td> <td>   -1.143</td> <td> 0.253</td> <td>   -0.089</td> <td>    0.023</td>\n",
       "</tr>\n",
       "<tr>\n",
       "  <th>ma.S.L5</th>  <td>   -1.0000</td> <td>    6.020</td> <td>   -0.166</td> <td> 0.868</td> <td>  -12.798</td> <td>   10.798</td>\n",
       "</tr>\n",
       "<tr>\n",
       "  <th>sigma2</th>   <td> 2.393e+04</td> <td> 1.44e+05</td> <td>    0.166</td> <td> 0.868</td> <td>-2.58e+05</td> <td> 3.06e+05</td>\n",
       "</tr>\n",
       "</table>\n",
       "<table class=\"simpletable\">\n",
       "<tr>\n",
       "  <th>Ljung-Box (L1) (Q):</th>     <td>6.26</td> <th>  Jarque-Bera (JB):  </th> <td>652.53</td>\n",
       "</tr>\n",
       "<tr>\n",
       "  <th>Prob(Q):</th>                <td>0.01</td> <th>  Prob(JB):          </th>  <td>0.00</td> \n",
       "</tr>\n",
       "<tr>\n",
       "  <th>Heteroskedasticity (H):</th> <td>0.82</td> <th>  Skew:              </th>  <td>-0.66</td>\n",
       "</tr>\n",
       "<tr>\n",
       "  <th>Prob(H) (two-sided):</th>    <td>0.07</td> <th>  Kurtosis:          </th>  <td>6.79</td> \n",
       "</tr>\n",
       "</table><br/><br/>Warnings:<br/>[1] Covariance matrix calculated using the outer product of gradients (complex-step).<br/>[2] Covariance matrix is singular or near-singular, with condition number 8.05e+14. Standard errors may be unstable."
      ],
      "text/plain": [
       "<class 'statsmodels.iolib.summary.Summary'>\n",
       "\"\"\"\n",
       "                                     SARIMAX Results                                     \n",
       "=========================================================================================\n",
       "Dep. Variable:                             nifty   No. Observations:                  979\n",
       "Model:             SARIMAX(1, 1, 1)x(2, 1, 1, 5)   Log Likelihood               -6303.442\n",
       "Date:                           Fri, 23 Jun 2023   AIC                          12620.885\n",
       "Time:                                   19:45:04   BIC                          12655.047\n",
       "Sample:                                        0   HQIC                         12633.886\n",
       "                                           - 979                                         \n",
       "Covariance Type:                             opg                                         \n",
       "==============================================================================\n",
       "                 coef    std err          z      P>|z|      [0.025      0.975]\n",
       "------------------------------------------------------------------------------\n",
       "spx            0.9211      0.072     12.858      0.000       0.781       1.061\n",
       "ar.L1         -0.9618      0.048    -19.961      0.000      -1.056      -0.867\n",
       "ma.L1          0.9731      0.040     24.111      0.000       0.894       1.052\n",
       "ar.S.L5        0.0921      0.030      3.052      0.002       0.033       0.151\n",
       "ar.S.L10      -0.0328      0.029     -1.143      0.253      -0.089       0.023\n",
       "ma.S.L5       -1.0000      6.020     -0.166      0.868     -12.798      10.798\n",
       "sigma2      2.393e+04   1.44e+05      0.166      0.868   -2.58e+05    3.06e+05\n",
       "===================================================================================\n",
       "Ljung-Box (L1) (Q):                   6.26   Jarque-Bera (JB):               652.53\n",
       "Prob(Q):                              0.01   Prob(JB):                         0.00\n",
       "Heteroskedasticity (H):               0.82   Skew:                            -0.66\n",
       "Prob(H) (two-sided):                  0.07   Kurtosis:                         6.79\n",
       "===================================================================================\n",
       "\n",
       "Warnings:\n",
       "[1] Covariance matrix calculated using the outer product of gradients (complex-step).\n",
       "[2] Covariance matrix is singular or near-singular, with condition number 8.05e+14. Standard errors may be unstable.\n",
       "\"\"\""
      ]
     },
     "execution_count": 66,
     "metadata": {},
     "output_type": "execute_result"
    }
   ],
   "source": [
    "model_sarimax.summary()"
   ]
  },
  {
   "cell_type": "code",
   "execution_count": 85,
   "id": "11fab505",
   "metadata": {},
   "outputs": [
    {
     "name": "stdout",
     "output_type": "stream",
     "text": [
      "AR(9):\t\t\t\t Log likelihood is: -5091.278497118973\t AIC is: 10204.556994237946\n",
      "MA(9):\t\t\t\t Log likelihood is: -5092.738528744247\t AIC is: 10207.477057488493\n",
      "ARMA(6,5):\t\t\t Log likelihood is: -5087.89324640091\t AIC is: 10201.78649280182\n",
      "ARIMA(3,1,4):\t\t\t Log likelihood is: -21068.69688220226\t AIC is: 42153.39376440452\n",
      "ARIMAX(1,1,1):\t\t\t Log likelihood is: -20949.61567109193\t AIC is: 41907.23134218386\n",
      "SARIMAX(1,1,1)(2,1,1,5):\t Log likelihood is: -6303.442299574484\t AIC is: 12620.884599148969\n"
     ]
    }
   ],
   "source": [
    "print('AR(9):'+ '\\t\\t\\t\\t Log likelihood is: ' + str(model_ar9.llf) + '\\t AIC is: ' + str(model_ar9.aic))\n",
    "print('MA(9):'+ '\\t\\t\\t\\t Log likelihood is: ' + str(model_ma9.llf) + '\\t AIC is: ' + str(model_ma9.aic))\n",
    "print('ARMA(6,5):'+ '\\t\\t\\t Log likelihood is: ' + str(model_ar6_ma5.llf) + '\\t AIC is: ' + str(model_ar6_ma5.aic))\n",
    "print('ARIMA(3,1,4):'+ '\\t\\t\\t Log likelihood is: ' + str(model_ar3_i1_ma4.llf) + '\\t AIC is: ' + str(model_ar3_i1_ma4.aic))\n",
    "print('ARIMAX(1,1,1):'+ '\\t\\t\\t Log likelihood is: ' + str(model_arimax111.llf) + '\\t AIC is: ' + str(model_arimax111.aic))\n",
    "print('SARIMAX(1,1,1)(2,1,1,5):'+ '\\t Log likelihood is: ' + str(model_sarimax.llf) + '\\t AIC is: ' + str(model_sarimax.aic))\n",
    "\n"
   ]
  },
  {
   "cell_type": "code",
   "execution_count": null,
   "id": "be075e08",
   "metadata": {},
   "outputs": [],
   "source": []
  }
 ],
 "metadata": {
  "kernelspec": {
   "display_name": "Python 3 (ipykernel)",
   "language": "python",
   "name": "python3"
  },
  "language_info": {
   "codemirror_mode": {
    "name": "ipython",
    "version": 3
   },
   "file_extension": ".py",
   "mimetype": "text/x-python",
   "name": "python",
   "nbconvert_exporter": "python",
   "pygments_lexer": "ipython3",
   "version": "3.9.12"
  }
 },
 "nbformat": 4,
 "nbformat_minor": 5
}
